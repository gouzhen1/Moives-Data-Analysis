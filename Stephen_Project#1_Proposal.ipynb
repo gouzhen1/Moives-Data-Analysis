{
 "cells": [
  {
   "cell_type": "markdown",
   "metadata": {},
   "source": [
    "\n",
    "## Analysis of Major Revenue Driving Factors in American Movies\n",
    "#### by Stephen Gou\n",
    "#### Student Number: 1000382908\n",
    "### Questions\n",
    "1. Is there a statistically significant difference between the mean revenues of NY critic picks and non-picks movies?\n",
    "2. Do reviews of NY critic picks display a different set of sentiments than that of non-picks?\n",
    "3. What are the major characteristics of a modern American movie that affect its deomestic lifetime revenue? Modern is defined here as after 1990.\n",
    "\n",
    "### Data Collection\n",
    "- OMDb API provies a good baseline meta data about movies including release date, runtime, genre, director, writer, actors, production companies, and opening box office. However, several data of interests are missing, e.g. life-time revenue (it only provides opening box office) and budget.\n",
    "\n",
    "- To supplement OMDb, I found The Movie Dataset on Kaggle:\n",
    "    https://www.kaggle.com/rounakbanik/the-movies-dataset#movies_metadata.csv\n",
    "    This data was collected from TMDB. It contains revenue, budget, multiple genre tags, and keywords data.\n",
    "\n",
    "- NY movie reviews can be accessed through its API.\n",
    "\n",
    "- Text Blob for sentiment analysis https://textblob.readthedocs.io/en/dev/quickstart.html\n",
    "\n",
    "### EDA\n",
    "1. Plot the distribution of revenues of critic-picks vs non-picks.\n",
    "    \n",
    "2. Generate frequencies of words with different sentiments.\n",
    "\n",
    "3. Feature selection and transformation for analyzing movie revenues factors\n",
    " - Pick out relevant features in the data for predicting the revenues through intuition, e.g. genre, director, keywords and actors.\n",
    "\n",
    " - Examine the validity of important data like revenue. For example, are these revenue figures inflation adjusted? Are they domestic and lifetime revenues? Validate some revenues with other data source like Box Office Mojo.\n",
    "\n",
    " - Think about how to represent and transform certain features to be ready for modelling: For instance, actors. One way to use it meaningfully is to pull external references and assign a \"popularity score\" to each actor.\n",
    "    \n",
    " - Keywords is another example that we have to explore its range and values and figure out how to incoporate it into our model. How many unique ones are in total and how many keywords are associated with each movie? \"The Dark Knight Rises\" has 21 keywords associated with it, including \"dc comics\", \"terrorist\", \"gotham city\", \"catwoman\"and etc. Some words like \"dc comics\" might offer very good predictive value since it's associated with many movies, while others like \"gotham city\" and \"catman\" might be too specific. Here we might need to plot a histogram of frequencies of all popular keywords.\n",
    "\n",
    "### Analysis\n",
    "**1. Is there a statistically significant difference between the mean revenues of NY critic picks and non-picks movies?**\n",
    "    \n",
    "    Conduct a t-test on the mean revenue of critic-picks and determine if there's statistically significant difference.\n",
    "\n",
    "\n",
    "**2. Do reviews of NY critic picks display a different set of sentiments than that of non-picks?**\n",
    "    \n",
    "    Compare the top most-frequent key words to picks vs non-picks.\n",
    "    \n",
    "    \n",
    "**3. What are the major characteristics of a modern American movie that affect its deomestic lifetime revenue?**\n",
    "- Construct a linear regression model that fits a movie's features to its revenue. Categorical features like genre tags, and key words will be one hot encoded. Reason about possible interaction terms and include them in the model. \n",
    "- Examine coefficients and their corresponding p-values to identify the most influential features that drive revenue.\n",
    "- Finally, test for likely confounders. For instance, genre might affect a movie's revenue and the type of directors at the same time.\n",
    "- Try random forest of regression trees and compare performance"
   ]
  },
  {
   "cell_type": "markdown",
   "metadata": {},
   "source": [
    "## Introduction\n",
    "\n",
    "## Methods\n",
    "## Results\n",
    "## Conclusion"
   ]
  },
  {
   "cell_type": "markdown",
   "metadata": {},
   "source": [
    "#### Code for importing, basic trimming and observation of data from TMDB and OMDB."
   ]
  },
  {
   "cell_type": "code",
   "execution_count": 30,
   "metadata": {},
   "outputs": [
    {
     "name": "stdout",
     "output_type": "stream",
     "text": [
      "(4803, 20)\n",
      "(7539, 18)\n",
      "4                        Leonard Cohen: Bird on a Wire\n",
      "5     Accidental Courtesy: Daryl Davis, Race & America\n",
      "6                                             Paterson\n",
      "7                                         Toni Erdmann\n",
      "14                                              Fences\n",
      "Name: display_title, dtype: object\n"
     ]
    }
   ],
   "source": [
    "import json\n",
    "import requests\n",
    "import pandas as pd\n",
    "from pandas.io.json import json_normalize\n",
    "    \n",
    "#Load datasets\n",
    "tmdb_df = pd.read_csv('tmdb_5000_movies.csv')\n",
    "ny_df = pd.read_csv('NY Movie Reviews.csv')\n",
    "print(tmdb_df.shape)\n",
    "print(ny_df.shape)\n",
    "#Data Cleaning\n",
    "#Remove movies before 1990, Remove movies not from US,Remove irrelevant columns\n",
    "tmdb_df['release_date'] = pd.to_datetime(tmdb_df['release_date'])\n",
    "tmdb_df = tmdb_df.drop(columns = ['original_language','popularity','homepage','overview','spoken_languages','tagline','original_title','vote_average','vote_count'])\n",
    "tmdb_df.drop(tmdb_df[tmdb_df['release_date'].dt.year < 1990].index, inplace=True)\n",
    "tmdb_df.head()\n",
    "\n",
    "critics_picks = ny_df[ny_df['critics_pick'] > 0]['display_title']\n",
    "print(critics_picks.head())\n",
    "tmdb_df['critic_pick'] = tmdb_df['original_title'] in critics_picks"
   ]
  },
  {
   "cell_type": "code",
   "execution_count": 25,
   "metadata": {},
   "outputs": [],
   "source": [
    "#Codes for scraping, dont run. saved to csv file.\n",
    "NYT_API_KEY = '53223e11b006467490bde835d45b0c74'\n",
    "OMDB_API_KEY = 'd42886f4'\n",
    "\n",
    "def fetch_omdb(title):\n",
    "    title = 't=' + title.replace(' ', '+')\n",
    "    print (title)\n",
    "    req = 'http://www.omdbapi.com/?apikey='+ OMDB_API_KEY + '&'+ title\n",
    "    omdb_df = pd.read_json(req)\n",
    "    omdb_df.to_csv('omdb_data.csv')\n",
    "    return omdb_df\n",
    "\n",
    "all_ny_df = []\n",
    "for offset in range(0,8000,20):\n",
    "    url = 'http://api.nytimes.com/svc/movies/v2/reviews/search.json?opening-date=1990-01-01;2016-12-31&offset={0}&api-key=ae71411b586e4f9c82502e7e782b122d'.format(offset)\n",
    "    ny_json = pd.read_json(url, orient = 'records')\n",
    "    ny_df = json_normalize(ny_json['results'])\n",
    "    if ny_df.empty:\n",
    "        break\n",
    "    all_ny_df.append(ny_df)\n",
    "\n",
    "ny_df = pd.concat(all_ny_df)\n",
    "print(ny_df.tail())\n",
    "ny_df.to_csv('NY Movie Reviews.csv')"
   ]
  },
  {
   "cell_type": "markdown",
   "metadata": {},
   "source": [
    "title = 't=' + nytdata['display_title'][1].replace(' ', '+')\n",
    "req = 'http://www.omdbapi.com/?apikey='+ OMDB_API_KEY + '&'+ title\n",
    "print(pd.read_json(req))"
   ]
  },
  {
   "cell_type": "code",
   "execution_count": null,
   "metadata": {},
   "outputs": [],
   "source": []
  }
 ],
 "metadata": {
  "kernelspec": {
   "display_name": "Python 3",
   "language": "python",
   "name": "python3"
  },
  "language_info": {
   "codemirror_mode": {
    "name": "ipython",
    "version": 3
   },
   "file_extension": ".py",
   "mimetype": "text/x-python",
   "name": "python",
   "nbconvert_exporter": "python",
   "pygments_lexer": "ipython3",
   "version": "3.7.0"
  }
 },
 "nbformat": 4,
 "nbformat_minor": 2
}
